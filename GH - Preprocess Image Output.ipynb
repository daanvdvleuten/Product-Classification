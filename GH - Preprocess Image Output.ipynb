{
 "cells": [
  {
   "cell_type": "markdown",
   "metadata": {},
   "source": [
    "#### The output of IRNV2 will be processed in this notebook. Because the output is shuffled, and the probabilities/labels/predictions all are separated, these are merged now. When this concatenation is complete, the output goes to 'GH - Create TFRecords & Create image-input ensemble'. Because that is where the IRNV2 output is matched again to the original dataframe (match unique ids again)"
   ]
  },
  {
   "cell_type": "code",
   "execution_count": 1,
   "metadata": {
    "collapsed": true
   },
   "outputs": [],
   "source": [
    "import pandas as pd\n",
    "import numpy as np"
   ]
  },
  {
   "cell_type": "code",
   "execution_count": 2,
   "metadata": {
    "collapsed": false
   },
   "outputs": [],
   "source": [
    "#Import the train2 results\n",
    "labels_train2 = pd.read_csv('labels-train2.csv', header=None)\n",
    "pred_train2 = pd.read_csv('predictions-train2.csv', header=None)\n",
    "image_ids_train2 = pd.read_csv('imageid-train2.csv', header=None)\n",
    "probs_train2 = pd.read_csv('probabilities-train2.csv', header=None)\n",
    "\n",
    "#Import the validation results\n",
    "labels_val2 = pd.read_csv('labels-val2.csv', header=None)\n",
    "pred_val2 = pd.read_csv('predictions-val2.csv', header=None)\n",
    "image_ids_val2 = pd.read_csv('imageid-val2.csv', header=None)\n",
    "probs_val2 = pd.read_csv('probabilities-val2.csv', header=None)"
   ]
  },
  {
   "cell_type": "markdown",
   "metadata": {},
   "source": [
    "## Transpose the dataframes"
   ]
  },
  {
   "cell_type": "code",
   "execution_count": 6,
   "metadata": {
    "collapsed": false
   },
   "outputs": [],
   "source": [
    "image_ids_train2 = image_ids_train2.stack().reset_index().rename(columns={0:'ImageID'}).drop(['level_0', 'level_1'],1)\n",
    "probs_train2 = probs_train2.stack().reset_index().rename(columns={0:'Probabilities'}).drop(['level_0', 'level_1'],1)\n",
    "pred_train2 = pred_train2.stack().reset_index().rename(columns={0:'Predictions'}).drop(['level_0', 'level_1'],1)\n",
    "labels_train2 = labels_train2.stack().reset_index().rename(columns={0:'Labels'}).drop(['level_0', 'level_1'],1)"
   ]
  },
  {
   "cell_type": "code",
   "execution_count": 7,
   "metadata": {
    "collapsed": true
   },
   "outputs": [],
   "source": [
    "image_ids_val2 = image_ids_val2.stack().reset_index().rename(columns={0:'ImageID'}).drop(['level_0', 'level_1'],1)\n",
    "probs_val2 = probs_val2.stack().reset_index().rename(columns={0:'Probabilities'}).drop(['level_0', 'level_1'],1)\n",
    "pred_val2 = pred_val2.stack().reset_index().rename(columns={0:'Predictions'}).drop(['level_0', 'level_1'],1)\n",
    "labels_val2 = labels_val2.stack().reset_index().rename(columns={0:'Labels'}).drop(['level_0', 'level_1'],1)"
   ]
  },
  {
   "cell_type": "code",
   "execution_count": 8,
   "metadata": {
    "collapsed": true
   },
   "outputs": [],
   "source": [
    "inception_output_train2 = image_ids_train2.copy()\n",
    "inception_output_val2 = image_ids_val2.copy()"
   ]
  },
  {
   "cell_type": "code",
   "execution_count": 9,
   "metadata": {
    "collapsed": false
   },
   "outputs": [],
   "source": [
    "inception_output_train2 = pd.concat([inception_output_train2, probs_train2], axis=1)\n",
    "inception_output_train2 = pd.concat([inception_output_train2, pred_train2], axis=1)\n",
    "inception_output_train2 = pd.concat([inception_output_train2, labels_train2], axis=1)\n",
    "\n",
    "inception_output_val2 = pd.concat([inception_output_val2, probs_val2], axis=1)\n",
    "inception_output_val2 = pd.concat([inception_output_val2, pred_val2], axis=1)\n",
    "inception_output_val2 = pd.concat([inception_output_val2, labels_val2], axis=1)"
   ]
  },
  {
   "cell_type": "code",
   "execution_count": 10,
   "metadata": {
    "collapsed": false
   },
   "outputs": [],
   "source": [
    "inception_output_train2 = inception_output_train2.sort_values(by=['ImageID'])\n",
    "inception_output_val2 = inception_output_val2.sort_values(by=['ImageID'])"
   ]
  },
  {
   "cell_type": "code",
   "execution_count": 11,
   "metadata": {
    "collapsed": false
   },
   "outputs": [
    {
     "data": {
      "text/plain": [
       "7844"
      ]
     },
     "execution_count": 11,
     "metadata": {},
     "output_type": "execute_result"
    }
   ],
   "source": [
    "len(inception_output_train2)"
   ]
  },
  {
   "cell_type": "code",
   "execution_count": 1,
   "metadata": {
    "collapsed": false
   },
   "outputs": [],
   "source": [
    "inception_output_val2"
   ]
  },
  {
   "cell_type": "code",
   "execution_count": 14,
   "metadata": {
    "collapsed": true
   },
   "outputs": [],
   "source": [
    "inception_output_train2 = inception_output_train2.drop_duplicates(subset='ImageID', keep='last')\n",
    "inception_output_val2 = inception_output_val2.drop_duplicates(subset='ImageID', keep='last')"
   ]
  },
  {
   "cell_type": "code",
   "execution_count": 15,
   "metadata": {
    "collapsed": false
   },
   "outputs": [],
   "source": [
    "inception_output_train2 = inception_output_train2.reset_index(drop=True)\n",
    "inception_output_val2 = inception_output_val2.reset_index(drop=True)"
   ]
  },
  {
   "cell_type": "code",
   "execution_count": 18,
   "metadata": {
    "collapsed": false
   },
   "outputs": [
    {
     "data": {
      "text/plain": [
       "3922"
      ]
     },
     "execution_count": 18,
     "metadata": {},
     "output_type": "execute_result"
    }
   ],
   "source": [
    "len(inception_output_train2)"
   ]
  },
  {
   "cell_type": "markdown",
   "metadata": {},
   "source": [
    "These are the two files created, one representing training dataset (2) (image probabilities), and the other representing validation dataset (2) (image probabilities). These will be matched again to the correct dataframe in the 'GH - create TFRecords & Create image-input ensemble' notebook. "
   ]
  },
  {
   "cell_type": "code",
   "execution_count": 19,
   "metadata": {
    "collapsed": true
   },
   "outputs": [],
   "source": [
    "inception_output_train2.to_excel(\"inception-output_train2.xlsx\", header=True)\n",
    "inception_output_val2.to_excel(\"inception-output_val2.xlsx\", header=True)"
   ]
  }
 ],
 "metadata": {
  "kernelspec": {
   "display_name": "Python 3",
   "language": "python",
   "name": "python3"
  },
  "language_info": {
   "codemirror_mode": {
    "name": "ipython",
    "version": 3
   },
   "file_extension": ".py",
   "mimetype": "text/x-python",
   "name": "python",
   "nbconvert_exporter": "python",
   "pygments_lexer": "ipython3",
   "version": "3.6.0"
  }
 },
 "nbformat": 4,
 "nbformat_minor": 2
}
