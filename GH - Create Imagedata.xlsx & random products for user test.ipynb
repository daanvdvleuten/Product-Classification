{
 "cells": [
  {
   "cell_type": "markdown",
   "metadata": {},
   "source": [
    "### This notebook creates the imagedata.xlsx, as well as the 50 random products, used in the human baseline test.\n",
    "###### imagedata.xlsx used for \"GH - Create TFRecords & Create image-input ensemble\" --> to match products again\n",
    "###### and also used for \"GH - Images to separate folders & Images user test\" to map all images to a specific folder\n",
    "###### 50randomproducts.xlsx used for user test with employee"
   ]
  },
  {
   "cell_type": "code",
   "execution_count": 6,
   "metadata": {
    "collapsed": false
   },
   "outputs": [],
   "source": [
    "import numpy as np\n",
    "import glob\n",
    "import os.path\n",
    "import pandas as pd\n",
    "from sklearn import preprocessing"
   ]
  },
  {
   "cell_type": "code",
   "execution_count": 7,
   "metadata": {
    "collapsed": false
   },
   "outputs": [],
   "source": [
    "data = pd.read_excel(\"textdata.xlsx\")"
   ]
  },
  {
   "cell_type": "code",
   "execution_count": 8,
   "metadata": {
    "collapsed": false
   },
   "outputs": [],
   "source": [
    "images_string = glob.glob(\"C:/Users/studentid/Desktop/JADS - Master Thesis/Data/Images/*.png\")\n",
    "len(images_string)\n",
    "#type(images_string)\n",
    "\n",
    "images_add = pd.Series(images_string)\n",
    "data['Images'] = images_add.values\n",
    "\n",
    "counts = data['Label'].value_counts()\n",
    "data = data[data['Label'].isin(counts[counts > 3].index)]\n",
    "data = data.reset_index(drop=True)\n",
    "\n",
    "#Encode these classes (instead of full names, make them digits)\n",
    "le = preprocessing.LabelEncoder()\n",
    "le.fit(data['Label'])\n",
    "data['Label'] = le.transform(data['Label']) "
   ]
  },
  {
   "cell_type": "code",
   "execution_count": 9,
   "metadata": {
    "collapsed": true
   },
   "outputs": [],
   "source": [
    "## LABELS RANGE FROM 0 TO 324, MEANING 325 UNIQUE LABELS! Later on, this will end up to be 275, as more had to be dropped"
   ]
  },
  {
   "cell_type": "code",
   "execution_count": 13,
   "metadata": {
    "collapsed": false
   },
   "outputs": [],
   "source": [
    "len(data) # 21424 with > 3"
   ]
  },
  {
   "cell_type": "code",
   "execution_count": 12,
   "metadata": {
    "collapsed": false
   },
   "outputs": [],
   "source": [
    "#data.loc[data['Label'].idxmax()]"
   ]
  },
  {
   "cell_type": "code",
   "execution_count": 8,
   "metadata": {
    "collapsed": true
   },
   "outputs": [],
   "source": [
    "data.to_excel(\"imagedata.xlsx\")"
   ]
  },
  {
   "cell_type": "markdown",
   "metadata": {
    "collapsed": true
   },
   "source": [
    "#### Generate 50 random products for the user test"
   ]
  },
  {
   "cell_type": "code",
   "execution_count": 14,
   "metadata": {
    "collapsed": false
   },
   "outputs": [],
   "source": [
    "#For the user test, the employees of the webshop have to classify 50 products that come from their own database.\n",
    "#This is to see how they perform on the classification task, as well as the time it takes them.\n",
    "#The classification task consists of naming the 4 categories, when shown textual product information along with its image.\n",
    "random_products = data.sample(50)\n",
    "#random_products"
   ]
  },
  {
   "cell_type": "code",
   "execution_count": 50,
   "metadata": {
    "collapsed": false
   },
   "outputs": [],
   "source": [
    "random_products.to_excel(\"50randomproducts.xlsx\", header=True)"
   ]
  },
  {
   "cell_type": "markdown",
   "metadata": {},
   "source": [
    "#### The Learning Rate Range Test plot is created here, to identify the boundaries for base_lr and max_lr"
   ]
  },
  {
   "cell_type": "code",
   "execution_count": 10,
   "metadata": {
    "collapsed": true
   },
   "outputs": [],
   "source": [
    "acc = pd.read_csv(\"C:/Users\\studentid\\Desktop\\JADS - Master Thesis\\Data\\ImagesFinalData\\LR-rangetest-acc.csv\")\n",
    "lr = pd.read_csv(\"C:/Users\\studentid\\Desktop\\JADS - Master Thesis\\Data\\ImagesFinalData\\LR-rangetest-lr.csv\")"
   ]
  },
  {
   "cell_type": "code",
   "execution_count": 1,
   "metadata": {
    "collapsed": false
   },
   "outputs": [],
   "source": [
    "import matplotlib.pyplot as plt\n",
    "fig3, ax3 = plt.subplots()\n",
    "ax3.plot(lr, acc, color='b', linestyle ='solid')\n",
    "ax3.autoscale(enable=True, axis=\"y\", tight=False)\n",
    "\n",
    "plt.xlabel('Learning Rate')\n",
    "plt.ylabel('Accuracy Value')\n",
    "\n",
    "plt.show()"
   ]
  }
 ],
 "metadata": {
  "kernelspec": {
   "display_name": "Python 3",
   "language": "python",
   "name": "python3"
  },
  "language_info": {
   "codemirror_mode": {
    "name": "ipython",
    "version": 3
   },
   "file_extension": ".py",
   "mimetype": "text/x-python",
   "name": "python",
   "nbconvert_exporter": "python",
   "pygments_lexer": "ipython3",
   "version": "3.6.0"
  }
 },
 "nbformat": 4,
 "nbformat_minor": 2
}
