{
 "cells": [
  {
   "cell_type": "code",
   "execution_count": 3,
   "metadata": {
    "collapsed": true
   },
   "outputs": [],
   "source": [
    "import pandas as pd\n",
    "import numpy as np\n",
    "import os\n",
    "from shutil import copyfile"
   ]
  },
  {
   "cell_type": "code",
   "execution_count": 4,
   "metadata": {
    "collapsed": false
   },
   "outputs": [],
   "source": [
    "data = pd.read_excel(\"imagedata.xlsx\")"
   ]
  },
  {
   "cell_type": "code",
   "execution_count": 8,
   "metadata": {
    "collapsed": false
   },
   "outputs": [],
   "source": [
    "data.Label.nunique()\n",
    "#UNIQUE is 336, with > 3 #This will change later on, when again labels are dropped that dont match stratified kfolds.\n",
    "#labeldirectory = range(0,336)"
   ]
  },
  {
   "cell_type": "markdown",
   "metadata": {},
   "source": [
    "#### The padded images to separate folders\n",
    "In this case, the number of classes is still 275. When the TFRecords are created, only the correct 275 labels will be used."
   ]
  },
  {
   "cell_type": "code",
   "execution_count": 6,
   "metadata": {
    "collapsed": false
   },
   "outputs": [],
   "source": [
    "for filename in os.listdir('C:/Users\\s164677\\Desktop\\JADS - Master Thesis\\Data\\ImagesPaddedLabel336'):\n",
    "    for row in labeldirectory:\n",
    "        rowtostring = str(row)\n",
    "        if not os.path.exists(rowtostring):\n",
    "            os.makedirs(rowtostring)"
   ]
  },
  {
   "cell_type": "code",
   "execution_count": 6,
   "metadata": {
    "collapsed": false
   },
   "outputs": [],
   "source": [
    "#data['Images'][0]"
   ]
  },
  {
   "cell_type": "code",
   "execution_count": 10,
   "metadata": {
    "collapsed": true
   },
   "outputs": [],
   "source": [
    "## MANIPULATE COLUMN FOR NEW IMAGE LOCATION"
   ]
  },
  {
   "cell_type": "code",
   "execution_count": 11,
   "metadata": {
    "collapsed": true
   },
   "outputs": [],
   "source": [
    "import re\n",
    "\n",
    "imagespadded = []\n",
    "for row in data['Images']:\n",
    "    \n",
    "    text = re.sub(r'(Images)', r'\\1Padded', row)\n",
    "    imagespadded.append(text)"
   ]
  },
  {
   "cell_type": "code",
   "execution_count": 12,
   "metadata": {
    "collapsed": false
   },
   "outputs": [],
   "source": [
    "data['ImagesPadded'] = imagespadded"
   ]
  },
  {
   "cell_type": "markdown",
   "metadata": {},
   "source": [
    "The code below maps the images (every label in a separate folder) to the final folder. Hereafter, these will be used when creating the TFRecords (based on 275 labels)"
   ]
  },
  {
   "cell_type": "code",
   "execution_count": 13,
   "metadata": {
    "collapsed": false
   },
   "outputs": [],
   "source": [
    "from shutil import copy\n",
    "\n",
    "for index, row in data.iterrows():\n",
    "    label1 = str(row['Label'])\n",
    "    image_dir1 = str(row['ImagesPadded'])\n",
    "    destination_dir1 = 'C:/Users/s164677/Desktop/JADS - Master Thesis/Data/ImagesFinalData/AllClassesPadded/' + label1\n",
    "\n",
    "    copy(image_dir1, destination_dir1)"
   ]
  },
  {
   "cell_type": "markdown",
   "metadata": {
    "collapsed": true
   },
   "source": [
    "#### The 50 images for the 'user test' to a separate folder"
   ]
  },
  {
   "cell_type": "code",
   "execution_count": 48,
   "metadata": {
    "collapsed": true
   },
   "outputs": [],
   "source": [
    "random_products = pd.read_excel(\"50randomproducts.xlsx\")\n",
    "random_products = random_products.reset_index(drop=True)"
   ]
  },
  {
   "cell_type": "code",
   "execution_count": 1,
   "metadata": {
    "collapsed": false
   },
   "outputs": [],
   "source": [
    "from shutil import copy\n",
    "import os\n",
    "\n",
    "i = 0\n",
    "for row in random_products['Images']:\n",
    "    #label1 = str(row['Label'])\n",
    "    image_dir1 = str(row)\n",
    "    actual_file = image_dir1[58:]\n",
    "    #print(actual_file)\n",
    "    destination_dir1 = 'C:/Users\\s164677\\Desktop\\JADS - Master Thesis\\Data\\PlaatjesUserTest'\n",
    "    plaatjesmap = 'C:/Users\\s164677\\Desktop\\JADS - Master Thesis\\Data\\PlaatjesUserTest'\n",
    "\n",
    "    copy(image_dir1, destination_dir1)\n",
    "    os.rename(plaatjesmap + \"/\" + actual_file, plaatjesmap + \"/\" + str(i) + \".png\")\n",
    "    i += 1"
   ]
  }
 ],
 "metadata": {
  "kernelspec": {
   "display_name": "Python 3",
   "language": "python",
   "name": "python3"
  },
  "language_info": {
   "codemirror_mode": {
    "name": "ipython",
    "version": 3
   },
   "file_extension": ".py",
   "mimetype": "text/x-python",
   "name": "python",
   "nbconvert_exporter": "python",
   "pygments_lexer": "ipython3",
   "version": "3.6.0"
  }
 },
 "nbformat": 4,
 "nbformat_minor": 2
}
