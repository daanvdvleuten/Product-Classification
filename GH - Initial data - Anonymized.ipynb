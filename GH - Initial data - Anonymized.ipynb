{
 "cells": [
  {
   "cell_type": "markdown",
   "metadata": {},
   "source": [
    "## The initial notebook, in which the real datasets are manipulated\n",
    "##### output of this notebook used for: \"GH - Create imagedata.xlsx & random products for user test\"\n",
    "##### excel file \"humanbaseline.xlsx\" is used for user test in the same notebook as above"
   ]
  },
  {
   "cell_type": "code",
   "execution_count": 1,
   "metadata": {
    "collapsed": true
   },
   "outputs": [],
   "source": [
    "import pandas as pd\n",
    "import numpy as np\n",
    "import urllib.request as req\n"
   ]
  },
  {
   "cell_type": "markdown",
   "metadata": {},
   "source": [
    "The datasets (textual data and image data) are imported (real names are hidden, to not expose customer)"
   ]
  },
  {
   "cell_type": "code",
   "execution_count": 2,
   "metadata": {
    "collapsed": false
   },
   "outputs": [],
   "source": [
    "textdata = pd.read_excel('thetextfile.xlsx')\n",
    "imagedata = pd.read_excel('theimagefile.xlsx', header=None)"
   ]
  },
  {
   "cell_type": "markdown",
   "metadata": {},
   "source": [
    "### Drop irrelevant columns\n",
    "Columns that have no added value for the classification process are dropped now"
   ]
  },
  {
   "cell_type": "code",
   "execution_count": 3,
   "metadata": {
    "collapsed": false
   },
   "outputs": [],
   "source": [
    "cols = [4,5,7,9,10,11,12,13]\n",
    "textdata.drop(textdata.columns[cols], axis=1, inplace = True)"
   ]
  },
  {
   "cell_type": "markdown",
   "metadata": {},
   "source": [
    "### The four-level taxonomy is now collapsed into a one-level taxonomy\n",
    "This means that every only unique labels will be created, and thus classification is done based on a flat hierarchy."
   ]
  },
  {
   "cell_type": "code",
   "execution_count": 4,
   "metadata": {
    "collapsed": true
   },
   "outputs": [],
   "source": [
    "## Change NaN (as a zero) to NaN as a word"
   ]
  },
  {
   "cell_type": "code",
   "execution_count": 5,
   "metadata": {
    "collapsed": true
   },
   "outputs": [],
   "source": [
    "textdata = textdata.fillna('nan')\n"
   ]
  },
  {
   "cell_type": "code",
   "execution_count": 6,
   "metadata": {
    "collapsed": true
   },
   "outputs": [],
   "source": [
    "textdata['Label'] = textdata[['Level1', 'Level2', 'Level3', 'Level4']].apply(lambda x: ';'.join(x), axis=1)\n"
   ]
  },
  {
   "cell_type": "code",
   "execution_count": 50,
   "metadata": {
    "collapsed": false
   },
   "outputs": [],
   "source": [
    "#This file is written for the 'human baseline' test. \n",
    "#As this is the file, from which 50 products are sampled, which will be classified. \n",
    "\n",
    "textdata.to_excel(\"textdata.xlsx\")"
   ]
  },
  {
   "cell_type": "markdown",
   "metadata": {},
   "source": [
    "#### Check frequency distribution of labels; see whether it is really skewed or not"
   ]
  },
  {
   "cell_type": "code",
   "execution_count": 1,
   "metadata": {
    "collapsed": false
   },
   "outputs": [],
   "source": [
    "#Some initial insights into how many unique 'nodes' there are per level of the taxonomy. \n",
    "#Due to the flattening of the hierarchy, this in itself is not relevant anymore.\n",
    "\n",
    "print(\"Cat1\")\n",
    "print(textdata['Level1'].nunique())\n",
    "print(\"Cat2\")\n",
    "print(textdata['Level2'].nunique())\n",
    "print(\"Cat3\")\n",
    "print(textdata['Level3'].nunique())\n",
    "print(\"Cat4\")\n",
    "print(textdata['Level4'].nunique())"
   ]
  },
  {
   "cell_type": "code",
   "execution_count": 23,
   "metadata": {
    "collapsed": false
   },
   "outputs": [],
   "source": [
    "textdata['Label'].nunique()\n",
    "plottingdata = textdata.copy()"
   ]
  },
  {
   "cell_type": "code",
   "execution_count": 25,
   "metadata": {
    "collapsed": false
   },
   "outputs": [],
   "source": [
    "from sklearn import preprocessing\n",
    "from sklearn.preprocessing import LabelEncoder, LabelBinarizer\n",
    "\n",
    "#Encode these classes (instead of full names, make them digits)\n",
    "le = preprocessing.LabelEncoder()\n",
    "le.fit(plottingdata['Label'])\n",
    "plottingdata['Label'] = le.transform(plottingdata['Label']) "
   ]
  },
  {
   "cell_type": "markdown",
   "metadata": {},
   "source": [
    "The plot below shows the skewedness of the dataset, thus concluding that this dataset is imbalanced"
   ]
  },
  {
   "cell_type": "code",
   "execution_count": 53,
   "metadata": {
    "collapsed": false
   },
   "outputs": [
    {
     "data": {
      "image/png": "[encoded data removed]",
      "text/plain": [
       "<matplotlib.figure.Figure at 0x1fe201622b0>"
      ]
     },
     "metadata": {},
     "output_type": "display_data"
    }
   ],
   "source": [
    "a = pd.value_counts(plottingdata['Label']).plot.bar()\n",
    "a.axes.get_xaxis().set_ticks([])\n",
    "x = [0, 100, 200, 300, 411]\n",
    "my_xticks = ['0', '100', '200', '300', '411']\n",
    "plt.xticks(x, my_xticks)\n",
    "plt.xlabel('Classes')\n",
    "plt.ylabel('Number of products')\n",
    "\n",
    "plt.show()"
   ]
  },
  {
   "cell_type": "markdown",
   "metadata": {},
   "source": [
    "## Imagedata lookup"
   ]
  },
  {
   "cell_type": "code",
   "execution_count": 477,
   "metadata": {
    "collapsed": false
   },
   "outputs": [],
   "source": [
    "imagedata.columns = ['Productnumber', 'URL']\n",
    "imagedata['EditURL'] = imagedata['URL']\n",
    "imagedata['EditURL'] = imagedata['EditURL'].map(lambda x: str(x)[27:])\n",
    "imagedata['ProductID'] = imagedata['EditURL'].astype(str).str[0:6]\n"
   ]
  },
  {
   "cell_type": "code",
   "execution_count": 2,
   "metadata": {
    "collapsed": false,
    "scrolled": true
   },
   "outputs": [],
   "source": [
    "#imagedata"
   ]
  },
  {
   "cell_type": "markdown",
   "metadata": {},
   "source": [
    "## Merge the two dataframes"
   ]
  },
  {
   "cell_type": "code",
   "execution_count": 480,
   "metadata": {
    "collapsed": true
   },
   "outputs": [],
   "source": [
    "result = pd.merge(textdata, imagedata, on='Productnumber')"
   ]
  },
  {
   "cell_type": "code",
   "execution_count": 3,
   "metadata": {
    "collapsed": false
   },
   "outputs": [],
   "source": [
    "#result"
   ]
  },
  {
   "cell_type": "markdown",
   "metadata": {},
   "source": [
    "## IMAGE SCRAPER"
   ]
  },
  {
   "cell_type": "code",
   "execution_count": 456,
   "metadata": {
    "collapsed": false
   },
   "outputs": [],
   "source": [
    "from time import sleep\n",
    "import random\n",
    "\n",
    "def download_images(amount, startnumber):\n",
    "    name_number = startnumber\n",
    "    i=0\n",
    "    j=0\n",
    "    batches=0\n",
    "    teller = 0\n",
    "\n",
    "\n",
    "    for row in result['URL'][6177:]:\n",
    "\n",
    "        if i < amount:\n",
    "            \n",
    "            imgurl = row\n",
    "            req.urlretrieve(imgurl, \"Images/%d.png\" % (name_number))\n",
    "            i += 1\n",
    "            name_number += 1\n",
    "            j += 1\n",
    "            \n",
    "            if j == 100:\n",
    "                \n",
    "                print('Batch of 100 downloaded')\n",
    "                j = 0\n",
    "                batches += 1\n",
    "                print('Batch %d out of 215' % (batches))\n",
    "                print('\\n')\n",
    "            \n",
    "        else: break\n",
    "            \n",
    "        scrapetijd = (random.uniform(0,1) * 3)\n",
    "        sleep(scrapetijd)\n",
    "            \n",
    "            \n",
    "    return print(\"Downloading is finished\"), name_number\n",
    "\n"
   ]
  },
  {
   "cell_type": "markdown",
   "metadata": {},
   "source": [
    "#### In total there are 21459 products (and thus 21459 images)"
   ]
  },
  {
   "cell_type": "code",
   "execution_count": 458,
   "metadata": {
    "collapsed": false,
    "scrolled": true
   },
   "outputs": [
    {
     "name": "stdout",
     "output_type": "stream",
     "text": [
      "Downloading is finished\n"
     ]
    },
    {
     "data": {
      "text/plain": [
       "(None, 1000006179)"
      ]
     },
     "execution_count": 458,
     "metadata": {},
     "output_type": "execute_result"
    }
   ],
   "source": [
    "download_images(21459, 1000000001)"
   ]
  },
  {
   "cell_type": "markdown",
   "metadata": {},
   "source": [
    "## Text Classification dataframe to excel/csv"
   ]
  },
  {
   "cell_type": "code",
   "execution_count": 483,
   "metadata": {
    "collapsed": true
   },
   "outputs": [],
   "source": [
    "## FIRST PRODUCT 7415 (INDEX) IS DROPPED; AS SCRAPING SHOWED, THAT URL IS DEAD AND THUS CANNOT BE USED\n",
    "result.drop(7415, inplace=True)"
   ]
  },
  {
   "cell_type": "code",
   "execution_count": 484,
   "metadata": {
    "collapsed": false
   },
   "outputs": [],
   "source": [
    "text_file = result"
   ]
  },
  {
   "cell_type": "code",
   "execution_count": 485,
   "metadata": {
    "collapsed": true
   },
   "outputs": [],
   "source": [
    "#Some additional columns are dropped, as is concluded that they add no value. \n",
    "colstext = [11,12,13]\n",
    "text_file.drop(text_file.columns[colstext], axis=1, inplace = True)"
   ]
  },
  {
   "cell_type": "code",
   "execution_count": 492,
   "metadata": {
    "collapsed": false
   },
   "outputs": [],
   "source": [
    "text_file.to_excel(\"textdata.xlsx\", index=False)"
   ]
  },
  {
   "cell_type": "code",
   "execution_count": 488,
   "metadata": {
    "collapsed": false
   },
   "outputs": [
    {
     "data": {
      "text/plain": [
       "21458"
      ]
     },
     "execution_count": 488,
     "metadata": {},
     "output_type": "execute_result"
    }
   ],
   "source": [
    "#A check to see if the number of products is still correct. Due to 1 dead URL, one product had to be dropped.\n",
    "len(result)"
   ]
  }
 ],
 "metadata": {
  "kernelspec": {
   "display_name": "Python 3",
   "language": "python",
   "name": "python3"
  },
  "language_info": {
   "codemirror_mode": {
    "name": "ipython",
    "version": 3
   },
   "file_extension": ".py",
   "mimetype": "text/x-python",
   "name": "python",
   "nbconvert_exporter": "python",
   "pygments_lexer": "ipython3",
   "version": "3.6.0"
  }
 },
 "nbformat": 4,
 "nbformat_minor": 2
}
