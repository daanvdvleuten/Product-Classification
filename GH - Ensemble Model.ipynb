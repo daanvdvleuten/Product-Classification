{
 "cells": [
  {
   "cell_type": "markdown",
   "metadata": {},
   "source": [
    "#### Ensemble Model Execution\n",
    "In this notebook, the predicted probabilities of the text classifiers will be combined with those of the image classifier (IRNV2). Hereafter, these are used to train the meta-learner (SVM), and validate on the meta-learner. This will result in a top-1 accuracy score per ensemble model"
   ]
  },
  {
   "cell_type": "code",
   "execution_count": 1,
   "metadata": {
    "collapsed": true
   },
   "outputs": [],
   "source": [
    "import pandas as pd\n",
    "import numpy as np\n",
    "\n",
    "from sklearn.model_selection import train_test_split\n",
    "from sklearn.multiclass import OneVsRestClassifier\n",
    "from sklearn.model_selection import GridSearchCV\n",
    "from sklearn.svm import SVC\n",
    "from sklearn.metrics import accuracy_score\n",
    "from sklearn.linear_model import LogisticRegression, LogisticRegressionCV\n",
    "from sklearn.model_selection import StratifiedKFold, KFold\n",
    "from sklearn.model_selection import GridSearchCV\n",
    "\n",
    "\n",
    "\n"
   ]
  },
  {
   "cell_type": "markdown",
   "metadata": {},
   "source": [
    "The predicted probabilities for both 'training_dataset(2)' and 'validation_dataset(2)' are now imported"
   ]
  },
  {
   "cell_type": "code",
   "execution_count": 3,
   "metadata": {
    "collapsed": false
   },
   "outputs": [],
   "source": [
    "## Test with probabilities of ImageModel\n",
    "image_train_input = pd.read_excel(\"image_input_train2_ensemble.xlsx\")\n",
    "text_train_input = pd.read_excel(\"LR_Predictions_train2.xlsx\")\n",
    "\n",
    "image_val_input = pd.read_excel('image_input_val2_ensemble.xlsx')\n",
    "text_val_input = pd.read_excel(\"LR_Predictions_val2.xlsx\")"
   ]
  },
  {
   "cell_type": "code",
   "execution_count": 5,
   "metadata": {
    "collapsed": false
   },
   "outputs": [],
   "source": [
    "image_train_input['Probabilities'] = image_train_input['Probabilities'].str.replace('[', '')\n",
    "image_train_input['Probabilities'] = image_train_input['Probabilities'].str.replace(']', '')\n",
    "\n",
    "image_val_input['Probabilities'] = image_val_input['Probabilities'].str.replace('[', '')\n",
    "image_val_input['Probabilities'] = image_val_input['Probabilities'].str.replace(']', '')"
   ]
  },
  {
   "cell_type": "code",
   "execution_count": 6,
   "metadata": {
    "collapsed": false
   },
   "outputs": [],
   "source": [
    "image_train_prob = []\n",
    "for row in image_train_input['Probabilities']:\n",
    "    probclass = row.split()\n",
    "    probclass = list(map(float, probclass))\n",
    "    image_train_prob.append(probclass)\n",
    "\n",
    "image_val_prob = []\n",
    "for row1 in image_val_input['Probabilities']:\n",
    "    probclass1 = row1.split()\n",
    "    probclass1 = list(map(float, probclass1))\n",
    "    image_val_prob.append(probclass1)"
   ]
  },
  {
   "cell_type": "code",
   "execution_count": 7,
   "metadata": {
    "collapsed": false
   },
   "outputs": [],
   "source": [
    "image_train_prob = pd.DataFrame(image_train_prob)\n",
    "image_val_prob = pd.DataFrame(image_val_prob)\n",
    "#image_val_prob"
   ]
  },
  {
   "cell_type": "code",
   "execution_count": 8,
   "metadata": {
    "collapsed": false
   },
   "outputs": [],
   "source": [
    "image_train_prob.columns = [str(x) for x in range(275, 550)]\n",
    "image_val_prob.columns = [str(x) for x in range(275, 550)]"
   ]
  },
  {
   "cell_type": "markdown",
   "metadata": {},
   "source": [
    "The predicted probabilities per classifier are now concatenated, to create both datasets."
   ]
  },
  {
   "cell_type": "code",
   "execution_count": 10,
   "metadata": {
    "collapsed": false
   },
   "outputs": [],
   "source": [
    "#The two output files of the base layer, with the text model and image model, are now added together, to serve as input.\n",
    "total_train_input = pd.concat([text_train_input, image_train_prob], axis=1)\n",
    "total_val_input = pd.concat([text_val_input, image_val_prob], axis=1)\n",
    "\n",
    "total_train_input.columns = [str(x) for x in range(0, 550)]\n",
    "total_val_input.columns = [str(x) for x in range(0, 550)]"
   ]
  },
  {
   "cell_type": "markdown",
   "metadata": {
    "collapsed": true
   },
   "source": [
    "#### Now the datasets can be applied to the models.\n",
    "First, a GridSearch will be done for each combination of text classifier output and image classifier output (thus creating the 5 ensemble models) "
   ]
  },
  {
   "cell_type": "code",
   "execution_count": 1,
   "metadata": {
    "collapsed": false
   },
   "outputs": [],
   "source": [
    "p_svc = {\n",
    "    \"estimator__C\": [0.001, 0.01, 0.1, 1,10,100],\n",
    "    \"estimator__kernel\": [\"rbf\", \"linear\", \"poly\", \"sigmoid\"],\n",
    "    \"estimator__gamma\": [1, 0.1, 0.01, 0.001]\n",
    "}\n",
    "\n",
    "\n",
    "sk_SVC = StratifiedKFold(n_splits=3, shuffle=True, random_state=1)\n",
    "\n",
    "clf3 = OneVsRestClassifier(SVC())\n",
    "\n",
    "grid = GridSearchCV(clf3, p_svc, cv=sk_SVC, n_jobs = -1, verbose=3)\n",
    "grid.fit(total_train_input, image_train_input['Label'])\n",
    "grid.cv_results_\n",
    "grid.best_params_"
   ]
  },
  {
   "cell_type": "markdown",
   "metadata": {
    "collapsed": true
   },
   "source": [
    "Having found the optimal parameters for each ensemble model (above), every meta-learner is trained and tested based on the combination of text and image classifier."
   ]
  },
  {
   "cell_type": "code",
   "execution_count": null,
   "metadata": {
    "collapsed": false
   },
   "outputs": [],
   "source": [
    "#SVC with KNN input:\n",
    "svcKNN = OneVsRestClassifier(SVC(C=1 , kernel='rbf', gamma=1, probability=True))\n",
    "svcKNN.fit(total_train_input, image_train_input['Label'])\n",
    "svcKNN_predicted = svcKNN.predict(total_val_input)\n",
    "svcKNN_proba_val2 = svcKNN.predict_proba(total_val_input)\n",
    "print(\"Acc:\", accuracy_score(image_val_input['Label'], svcKNN_predicted))"
   ]
  },
  {
   "cell_type": "code",
   "execution_count": 11,
   "metadata": {
    "collapsed": false
   },
   "outputs": [
    {
     "name": "stdout",
     "output_type": "stream",
     "text": [
      "Acc: 0.9571865443425076\n"
     ]
    }
   ],
   "source": [
    "#SVC with LR input:\n",
    "svcLR = OneVsRestClassifier(SVC(C=1 , kernel='linear', gamma=1, probability=True))\n",
    "svcLR.fit(total_train_input, image_train_input['Label'])\n",
    "svcLR_predicted = svcLR.predict(total_val_input)\n",
    "svcLR_proba_val2 = svcLR.predict_proba(total_val_input)\n",
    "print(\"Acc:\", accuracy_score(image_val_input['Label'], svcLR_predicted))"
   ]
  },
  {
   "cell_type": "code",
   "execution_count": null,
   "metadata": {
    "collapsed": false
   },
   "outputs": [],
   "source": [
    "#SVC with NB input:\n",
    "svcNB = OneVsRestClassifier(SVC(C=100 , kernel='rbf', gamma=0.01, probability=True))\n",
    "svcNB.fit(total_train_input, image_train_input['Label'])\n",
    "svcNB_predicted = svcNB.predict(total_val_input)\n",
    "svcNB_proba_val2 = svcNB.predict_proba(total_val_input)\n",
    "print(\"Acc:\", accuracy_score(image_val_input['Label'], svcNB_predicted))"
   ]
  },
  {
   "cell_type": "code",
   "execution_count": null,
   "metadata": {
    "collapsed": false
   },
   "outputs": [],
   "source": [
    "#SVC with SVM input:\n",
    "svc = OneVsRestClassifier(SVC(C=1 , kernel='linear', gamma=1, probability=True))\n",
    "svc.fit(total_train_input, image_train_input['Label'])\n",
    "svc_predicted = svc.predict(total_val_input)\n",
    "svc_proba_val2 = svc.predict_proba(total_val_input)\n",
    "print(\"Acc:\", accuracy_score(image_val_input['Label'], svc_predicted))"
   ]
  },
  {
   "cell_type": "code",
   "execution_count": null,
   "metadata": {
    "collapsed": false
   },
   "outputs": [],
   "source": [
    "#The output of the DT algorithm contains some NaN values, along with the predictions made.\n",
    "#These will be set to zero, as these are supposed to be zero. \n",
    "train_input_dt = total_train_input.fillna(0)\n",
    "val_input_dt = total_val_input.fillna(0)"
   ]
  },
  {
   "cell_type": "code",
   "execution_count": null,
   "metadata": {
    "collapsed": false
   },
   "outputs": [],
   "source": [
    "#SVC with DT input:\n",
    "svcDT = OneVsRestClassifier(SVC(C=1 , kernel='linear', gamma=1, probability=True))\n",
    "svcDT.fit(train_input_dt, image_train_input['Label'])\n",
    "svcDT_predicted = svcDT.predict(val_input_dt)\n",
    "svcDT_proba_val2 = svcDT.predict_proba(val_input_dt)\n",
    "print(\"Acc:\", accuracy_score(image_val_input['Label'], svcDT_predicted))"
   ]
  },
  {
   "cell_type": "markdown",
   "metadata": {},
   "source": [
    "#### Calculate Top-5 Accuracy scores"
   ]
  },
  {
   "cell_type": "code",
   "execution_count": 12,
   "metadata": {
    "collapsed": false
   },
   "outputs": [],
   "source": [
    "## CODE COPIED FROM \"Create TFRecords ipynb\", to map the labels according to dictionary values (needed to make top-5 acc)\n",
    "excel_labels275 = pd.read_excel('labels_left.xlsx')\n",
    "excel_labels275 = excel_labels275.drop_duplicates()\n",
    "list_labels275 = list(excel_labels275['labels_left'])\n",
    "\n",
    "class_names_sorted = [int(x) for x in list_labels275]\n",
    "class_names_sorted.sort(key=float)\n",
    "class_names_string = [str(item) for item in class_names_sorted]\n",
    "class_names_to_ids = dict(zip(class_names_string, range(len(class_names_string))))\n",
    "\n",
    "#The mapping has to be done other way around, in this case\n",
    "ids_to_class_names = {v: k for k, v in class_names_to_ids.items()}"
   ]
  },
  {
   "cell_type": "code",
   "execution_count": 13,
   "metadata": {
    "collapsed": true
   },
   "outputs": [],
   "source": [
    "def top5_acc(probability_predictions, ids_to_class_names):\n",
    "    \n",
    "    df_proba = pd.DataFrame(probability_predictions)\n",
    "    prediction_top_proba = []\n",
    "    for index, row in df_proba.iterrows():\n",
    "        df_proba = df_proba = df_proba.rename(columns=ids_to_class_names)\n",
    "        top_predictions = df_proba.sort_values(by=index, axis=1, ascending = False).columns.values[0:5]\n",
    "        prediction_top_proba.append(top_predictions)\n",
    "\n",
    "    prediction_top_proba = [list(map(int, row)) for row in prediction_top_proba]\n",
    "    predictions_top_df = pd.DataFrame({'Y_val2': image_val_input['Label'], 'Y_top_proba': prediction_top_proba })\n",
    "    total = 0\n",
    "    for index, row in predictions_top_df.iterrows():\n",
    "        real = predictions_top_df['Y_val2'].loc[index]\n",
    "        predicted_list = predictions_top_df['Y_top_proba'].loc[index]\n",
    "        true_pred = 0\n",
    "        for prediction in predicted_list[0:5]:\n",
    "            if real == prediction:\n",
    "                true_pred = 1\n",
    "        total += true_pred\n",
    "    \n",
    "    top5_acc = total/len(predictions_top_df)\n",
    "    print('Accuracy %.2f'%(top5_acc*100))"
   ]
  },
  {
   "cell_type": "code",
   "execution_count": null,
   "metadata": {
    "collapsed": false
   },
   "outputs": [],
   "source": [
    "print(\"kNN + Inception Top-5:\")\n",
    "print(top5_acc(svcKNN_proba_val2, ids_to_class_names))\n",
    "print(\"LogReg + Inception Top-5:\")\n",
    "print(top5_acc(svcLR_proba_val2, ids_to_class_names))\n",
    "print(\"NaïveBayes + Inception Top-5:\")\n",
    "print(top5_acc(svcNB_proba_val2, ids_to_class_names))\n",
    "print(\"SVC + Inception Top-5:\")\n",
    "print(top5_acc(svc_proba_val2, ids_to_class_names))\n",
    "print(\"DT + Inception Top-5:\")\n",
    "print(top5_acc(svcDT_proba_val2, ids_to_class_names))"
   ]
  },
  {
   "cell_type": "markdown",
   "metadata": {
    "collapsed": true
   },
   "source": [
    "Calculate F1 Micro & F1 Macro for each ensemble model, with additional check to see whether F1-micro == accuracy (due to multi-class setting, this should be the case)"
   ]
  },
  {
   "cell_type": "code",
   "execution_count": 17,
   "metadata": {
    "collapsed": true
   },
   "outputs": [],
   "source": [
    "from sklearn.metrics import f1_score\n",
    "\n",
    "def metrics_calc(pred):\n",
    "    print(\"Acc: \", accuracy_score(image_val_input['Label'], pred))\n",
    "    print(\"F1-micro: \", f1_score(image_val_input['Label'], pred, average = 'micro'))\n",
    "    print(\"F1-macro: \", f1_score(image_val_input['Label'], pred, average = 'macro'))"
   ]
  },
  {
   "cell_type": "code",
   "execution_count": null,
   "metadata": {
    "collapsed": false
   },
   "outputs": [],
   "source": [
    "print(\"kNN + Inception F1 Metrics:\")\n",
    "print(metrics_calc(svcKNN_predicted))\n",
    "print(\"LogReg + Inception F1 Metrics:\")\n",
    "print(metrics_calc(svcLR_predicted))\n",
    "print(\"NaïveBayes + Inception Top-5:\")\n",
    "print(metrics_calc(svcNB_predicted))\n",
    "print(\"SVC + Inception Top-5:\")\n",
    "print(metrics_calc(svc_predicted))\n",
    "print(\"DT + Inception Top-5:\")\n",
    "print(metrics_calc(svcDT_predicted))"
   ]
  }
 ],
 "metadata": {
  "kernelspec": {
   "display_name": "Python 3",
   "language": "python",
   "name": "python3"
  },
  "language_info": {
   "codemirror_mode": {
    "name": "ipython",
    "version": 3
   },
   "file_extension": ".py",
   "mimetype": "text/x-python",
   "name": "python",
   "nbconvert_exporter": "python",
   "pygments_lexer": "ipython3",
   "version": "3.6.0"
  }
 },
 "nbformat": 4,
 "nbformat_minor": 2
}
