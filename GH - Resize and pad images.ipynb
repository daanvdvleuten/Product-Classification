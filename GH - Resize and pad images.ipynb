{
 "cells": [
  {
   "cell_type": "markdown",
   "metadata": {},
   "source": [
    "#### In this notebook, all images are resized and padded. This is because of the images having different sizes. To guarantee optimal training/testing for IRNV2, all images are resized to 299x299. To respect the aspect ratio, the images are padded (filling in black pixels). "
   ]
  },
  {
   "cell_type": "code",
   "execution_count": 1,
   "metadata": {
    "collapsed": true
   },
   "outputs": [],
   "source": [
    "import PIL\n",
    "from PIL import Image, ImageChops\n",
    "import pandas as pd\n",
    "import numpy as np\n",
    "import os\n",
    "from shutil import copyfile"
   ]
  },
  {
   "cell_type": "code",
   "execution_count": 3,
   "metadata": {
    "collapsed": false
   },
   "outputs": [],
   "source": [
    "directory = \"C:/Users\\studentid\\Desktop\\JADS - Master Thesis\\Data\\Images\"\n",
    "\n",
    "for filename in os.listdir('C:/Users\\studentid\\Desktop\\JADS - Master Thesis\\Data\\Images'):\n",
    "    #print(filename)\n",
    "    F_IN = 'C:/Users/studentid/Desktop/JADS - Master Thesis/Data/Images/' + filename\n",
    "    F_OUT = 'C:/Users/studentid/Desktop/JADS - Master Thesis/Data/ImagesPadded/' + filename\n",
    "    \n",
    "    size = (299,299)\n",
    "\n",
    "    image = Image.open(F_IN)\n",
    "    image.thumbnail(size, Image.ANTIALIAS)\n",
    "    image_size = image.size\n",
    "\n",
    "    thumb = image.crop( (0, 0, size[0], size[1]) )\n",
    "    #thumb = int(thumb)\n",
    "\n",
    "    offset_x = max( (size[0] - image_size[0]) / 2, 0 )\n",
    "    offset_x = int(offset_x)\n",
    "    offset_y = max( (size[1] - image_size[1]) / 2, 0 )\n",
    "    offset_y = int(offset_y)\n",
    "\n",
    "    thumb = ImageChops.offset(thumb, offset_x, offset_y)\n",
    "    thumb.save(F_OUT)\n",
    "    "
   ]
  }
 ],
 "metadata": {
  "kernelspec": {
   "display_name": "Python 3",
   "language": "python",
   "name": "python3"
  },
  "language_info": {
   "codemirror_mode": {
    "name": "ipython",
    "version": 3
   },
   "file_extension": ".py",
   "mimetype": "text/x-python",
   "name": "python",
   "nbconvert_exporter": "python",
   "pygments_lexer": "ipython3",
   "version": "3.6.0"
  }
 },
 "nbformat": 4,
 "nbformat_minor": 2
}
